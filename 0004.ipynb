{
 "metadata": {
  "name": "",
  "signature": "sha256:292f8554d7193220534db0f47a5ece7e1eb5fd8229d79e24e132e8dade491f8c"
 },
 "nbformat": 3,
 "nbformat_minor": 0,
 "worksheets": [
  {
   "cells": [
    {
     "cell_type": "code",
     "collapsed": false,
     "input": [
      "import itertools as it\n",
      "\n",
      "def is_palindrome(n):\n",
      "    return str(n) == str(n)[::-1]\n",
      "\n",
      "a = range(900, 1000)\n",
      "palindromes = [(p[0], p[1], p[0] * p[1]) for p in it.product(a,a) if is_palindrome(p[0] * p[1])]\n",
      "sorted(palindromes, key = lambda x: x[2])\n"
     ],
     "language": "python",
     "metadata": {},
     "outputs": [
      {
       "metadata": {},
       "output_type": "pyout",
       "prompt_number": 1,
       "text": [
        "[(902, 909, 819918),\n",
        " (909, 902, 819918),\n",
        " (902, 914, 824428),\n",
        " (914, 902, 824428),\n",
        " (924, 932, 861168),\n",
        " (932, 924, 861168),\n",
        " (916, 968, 886688),\n",
        " (968, 916, 886688),\n",
        " (924, 962, 888888),\n",
        " (962, 924, 888888),\n",
        " (913, 993, 906609),\n",
        " (993, 913, 906609)]"
       ]
      }
     ],
     "prompt_number": 1
    },
    {
     "cell_type": "code",
     "collapsed": false,
     "input": [],
     "language": "python",
     "metadata": {},
     "outputs": []
    }
   ],
   "metadata": {}
  }
 ]
}