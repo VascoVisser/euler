{
 "metadata": {
  "name": "",
  "signature": "sha256:9078b05f0e2393d2ac9a45cd34fe8b7935e1d20681cb262ec26832fea1f1506d"
 },
 "nbformat": 3,
 "nbformat_minor": 0,
 "worksheets": [
  {
   "cells": [
    {
     "cell_type": "code",
     "collapsed": false,
     "input": [
      "import itertools as it\n",
      "import math\n",
      "\n",
      "pairs = ((i,j) for i in it.count() for j in range(i + 1))\n",
      "candidates = (x[0] * x[1] * math.sqrt(x[0]**2 + x[1]**2) for x in pairs if sum(x) + math.sqrt(x[0]**2 + x[1]**2) == 1000)\n",
      "candidates.next()"
     ],
     "language": "python",
     "metadata": {},
     "outputs": [
      {
       "metadata": {},
       "output_type": "pyout",
       "prompt_number": 32,
       "text": [
        "31875000.0"
       ]
      }
     ],
     "prompt_number": 32
    },
    {
     "cell_type": "code",
     "collapsed": false,
     "input": [],
     "language": "python",
     "metadata": {},
     "outputs": []
    }
   ],
   "metadata": {}
  }
 ]
}