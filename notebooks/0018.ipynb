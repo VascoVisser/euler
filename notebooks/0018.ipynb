{
 "metadata": {
  "name": "",
  "signature": "sha256:70c7fe68ef82e54771b30318e600ee3dcb86b946a4deee90c0ce62008164efb3"
 },
 "nbformat": 3,
 "nbformat_minor": 0,
 "worksheets": [
  {
   "cells": [
    {
     "cell_type": "code",
     "collapsed": false,
     "input": [
      "raw_triangle=\"\"\"75\n",
      "95 64\n",
      "17 47 82\n",
      "18 35 87 10\n",
      "20 04 82 47 65\n",
      "19 01 23 75 03 34\n",
      "88 02 77 73 07 63 67\n",
      "99 65 04 28 06 16 70 92\n",
      "41 41 26 56 83 40 80 70 33\n",
      "41 48 72 33 47 32 37 16 94 29\n",
      "53 71 44 65 25 43 91 52 97 51 14\n",
      "70 11 33 28 77 73 17 78 39 68 17 57\n",
      "91 71 52 38 17 14 91 43 58 50 27 29 48\n",
      "63 66 04 68 89 53 67 30 73 16 69 87 40 31\n",
      "04 62 98 27 23 09 70 98 73 93 38 53 60 04 23\"\"\"\n",
      "\n",
      "triangle = [[int(i) for i in l.split(' ')] for l in raw_triangle.split('\\n')]\n",
      "line_bottom = triangle[-1]\n",
      "for line_top in triangle[-2::-1]:\n",
      "    c1 = (x[0] + x[1] for x in zip(line_bottom, line_top))\n",
      "    c2 = (x[0] + x[1] for x in zip(line_bottom[1:], line_top))\n",
      "    line_bottom = [max(x[0], x[1]) for x in zip(c1, c2)]\n",
      "\n",
      "print line_bottom"
     ],
     "language": "python",
     "metadata": {},
     "outputs": [
      {
       "output_type": "stream",
       "stream": "stdout",
       "text": [
        "[1074]\n"
       ]
      }
     ],
     "prompt_number": 40
    },
    {
     "cell_type": "code",
     "collapsed": false,
     "input": [],
     "language": "python",
     "metadata": {},
     "outputs": []
    }
   ],
   "metadata": {}
  }
 ]
}