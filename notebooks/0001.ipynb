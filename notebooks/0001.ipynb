{
 "metadata": {
  "name": "",
  "signature": "sha256:02ee75c222a9ce10792ee3d2767dbc70ecd102b69b6a23f79f5afe57d9f5561c"
 },
 "nbformat": 3,
 "nbformat_minor": 0,
 "worksheets": [
  {
   "cells": [
    {
     "cell_type": "code",
     "collapsed": false,
     "input": [
      "threes = set(range(3, 1000, 3))\n",
      "fives = set(range(5, 1000, 5))\n",
      "threes_n_fives = threes | fives\n",
      "sum(threes_n_fives)"
     ],
     "language": "python",
     "metadata": {},
     "outputs": [
      {
       "metadata": {},
       "output_type": "pyout",
       "prompt_number": 6,
       "text": [
        "233168"
       ]
      }
     ],
     "prompt_number": 6
    },
    {
     "cell_type": "code",
     "collapsed": false,
     "input": [],
     "language": "python",
     "metadata": {},
     "outputs": []
    }
   ],
   "metadata": {}
  }
 ]
}