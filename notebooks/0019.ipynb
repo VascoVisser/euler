{
 "metadata": {
  "name": "",
  "signature": "sha256:c7e393170676daf7f6feb736df47aae7dd67cdb426b6b7c4c35ce32583808b0d"
 },
 "nbformat": 3,
 "nbformat_minor": 0,
 "worksheets": [
  {
   "cells": [
    {
     "cell_type": "code",
     "collapsed": false,
     "input": [
      "year_spec = [31, 28, 31, 30, 31, 30, 31, 31, 30, 31, 30, 31]\n",
      "leap_spec = [31, 29, 31, 30, 31, 30, 31, 31, 30, 31, 30, 31]\n",
      "norm_year = [j for i in year_spec for j in range(i)]\n",
      "leap_year = [j for i in leap_spec for j in range(i)]\n",
      "years = [(i, norm_year if i % 4 != 0 else leap_year) for i in range(1901, 2001)]\n",
      "dom_in_years = [j for y in years for j in y[1]]\n",
      "dow_in_years = [i % 7 for i in range(len(dom_in_years) + 365)][365:]\n",
      "len([X for X in zip(dom_in_years, dow_in_years) if X[0] == 0 and X[1] == 6])"
     ],
     "language": "python",
     "metadata": {},
     "outputs": [
      {
       "metadata": {},
       "output_type": "pyout",
       "prompt_number": 1,
       "text": [
        "171"
       ]
      }
     ],
     "prompt_number": 1
    },
    {
     "cell_type": "code",
     "collapsed": false,
     "input": [],
     "language": "python",
     "metadata": {},
     "outputs": []
    }
   ],
   "metadata": {}
  }
 ]
}