{
 "metadata": {
  "name": "",
  "signature": "sha256:152e192004a8899065d47a65d725df36fef4c618f57ffabb56efa9ed11715a58"
 },
 "nbformat": 3,
 "nbformat_minor": 0,
 "worksheets": [
  {
   "cells": [
    {
     "cell_type": "code",
     "collapsed": false,
     "input": [
      "from collections import deque\n",
      "import itertools as it\n",
      "\n",
      "def sieve(q, n):\n",
      "    for q_i in q:\n",
      "        if n % q_i == 0:\n",
      "            return False\n",
      "        if q_i > n / q_i:\n",
      "            return True"
     ],
     "language": "python",
     "metadata": {},
     "outputs": [],
     "prompt_number": 1
    },
    {
     "cell_type": "code",
     "collapsed": false,
     "input": [
      "#%%time\n",
      "q = deque([2])\n",
      "for candidate in it.count(3, 2):\n",
      "    if sieve(q, candidate):\n",
      "        q.append(candidate)  \n",
      "\n",
      "    if q[-1] > 2000000:\n",
      "        break\n",
      "        \n",
      "print sum(list(q)[:-1])"
     ],
     "language": "python",
     "metadata": {},
     "outputs": [
      {
       "output_type": "stream",
       "stream": "stdout",
       "text": [
        "142913828922\n"
       ]
      }
     ],
     "prompt_number": 3
    },
    {
     "cell_type": "code",
     "collapsed": false,
     "input": [],
     "language": "python",
     "metadata": {},
     "outputs": []
    }
   ],
   "metadata": {}
  }
 ]
}