{
 "metadata": {
  "name": "",
  "signature": "sha256:38e10b3f95221cf7ba131afeffdf90d1f7f835d15cec7c89a1f771070889c7cb"
 },
 "nbformat": 3,
 "nbformat_minor": 0,
 "worksheets": [
  {
   "cells": [
    {
     "cell_type": "markdown",
     "metadata": {},
     "source": [
      "This is the same solution as for problem 18"
     ]
    },
    {
     "cell_type": "code",
     "collapsed": false,
     "input": [
      "def compute_max_path(raw_triangle):\n",
      "    triangle = [[int(i) for i in l.split(' ')] for l in raw_triangle.split('\\n') if l.strip() != '']\n",
      "    line_bottom = triangle[-1]\n",
      "    for line_top in triangle[-2::-1]:\n",
      "        c1 = (x[0] + x[1] for x in zip(line_bottom, line_top))\n",
      "        c2 = (x[0] + x[1] for x in zip(line_bottom[1:], line_top))\n",
      "        line_bottom = [max(x[0], x[1]) for x in zip(c1, c2)]\n",
      "\n",
      "    print line_bottom\n",
      "    \n",
      "with open(\"triangle.txt\") as f:\n",
      "    data = f.read()\n",
      "    compute_max_path(data)"
     ],
     "language": "python",
     "metadata": {},
     "outputs": [
      {
       "output_type": "stream",
       "stream": "stdout",
       "text": [
        "[7273]\n"
       ]
      }
     ],
     "prompt_number": 13
    },
    {
     "cell_type": "code",
     "collapsed": false,
     "input": [],
     "language": "python",
     "metadata": {},
     "outputs": []
    }
   ],
   "metadata": {}
  }
 ]
}