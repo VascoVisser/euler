{
 "metadata": {
  "name": "",
  "signature": "sha256:678531677c0edb09bb0995f20b9245a46f97011313d245454e47a6eb823dae8c"
 },
 "nbformat": 3,
 "nbformat_minor": 0,
 "worksheets": [
  {
   "cells": [
    {
     "cell_type": "code",
     "collapsed": false,
     "input": [
      "from collections import deque\n",
      "import itertools as it\n",
      "\n",
      "# Using the fundamental theorem of arithmetic\n",
      "def sieve(q, n):\n",
      "    for q_i in q:\n",
      "        if n % q_i == 0:\n",
      "            return False\n",
      "        if q_i > n / q_i:\n",
      "            return True"
     ],
     "language": "python",
     "metadata": {},
     "outputs": [],
     "prompt_number": 1
    },
    {
     "cell_type": "code",
     "collapsed": false,
     "input": [
      "#%%timeit\n",
      "q = deque([2])\n",
      "for candidate in it.count(3, 2):\n",
      "    if sieve(q, candidate):\n",
      "        q.append(candidate)  \n",
      "\n",
      "    if len(q) == 10001:\n",
      "        break\n",
      "        \n",
      "print q[-1]"
     ],
     "language": "python",
     "metadata": {},
     "outputs": [
      {
       "output_type": "stream",
       "stream": "stdout",
       "text": [
        "104743\n"
       ]
      }
     ],
     "prompt_number": 4
    },
    {
     "cell_type": "code",
     "collapsed": false,
     "input": [],
     "language": "python",
     "metadata": {},
     "outputs": []
    }
   ],
   "metadata": {}
  }
 ]
}