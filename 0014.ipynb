{
 "metadata": {
  "name": "",
  "signature": "sha256:b3d9bf10637619887b192649a1b420113ddd16b6120ea38843250efb20ed0ead"
 },
 "nbformat": 3,
 "nbformat_minor": 0,
 "worksheets": [
  {
   "cells": [
    {
     "cell_type": "code",
     "collapsed": false,
     "input": [
      "def collatz_step(n):\n",
      "    return n/2 if n % 2 == 0 else 3*n + 1\n",
      "\n",
      "def collatz_seq_len(_n, memo):\n",
      "    l = 0\n",
      "    n = _n\n",
      "    while n > 1:\n",
      "        n = collatz_step(n)\n",
      "        l = l + 1\n",
      "        if str(n) in memo:\n",
      "            l = l + memo[str(n)]\n",
      "            n = 0\n",
      "    memo[str(_n)] = l\n",
      "\n",
      "memo=dict()\n",
      "for i in range(1,1000000, 2):\n",
      "    collatz_seq_len(i, memo)\n",
      "max(memo.items(), key=lambda x:x[1])"
     ],
     "language": "python",
     "metadata": {},
     "outputs": [
      {
       "metadata": {},
       "output_type": "pyout",
       "prompt_number": 3,
       "text": [
        "('837799', 524)"
       ]
      }
     ],
     "prompt_number": 3
    },
    {
     "cell_type": "code",
     "collapsed": false,
     "input": [],
     "language": "python",
     "metadata": {},
     "outputs": []
    }
   ],
   "metadata": {}
  }
 ]
}